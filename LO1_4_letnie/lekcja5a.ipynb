{
 "cells": [
  {
   "cell_type": "code",
   "execution_count": 2,
   "id": "e9f4b6c3",
   "metadata": {},
   "outputs": [
    {
     "name": "stdout",
     "output_type": "stream",
     "text": [
      "Jak masz na imię? Andrzej\n",
      "jak się masz,   Andrzej ?\n"
     ]
    }
   ],
   "source": [
    "a = input('Jak masz na imię? ')\n",
    "print('jak się masz,  ', a, '?')"
   ]
  },
  {
   "cell_type": "code",
   "execution_count": 8,
   "id": "768b93fb",
   "metadata": {},
   "outputs": [
    {
     "name": "stdout",
     "output_type": "stream",
     "text": [
      " Podaj długość boku 2\n"
     ]
    }
   ],
   "source": [
    "# liczę pole kwadratu\n",
    "x = int(input(' Podaj długość boku '))\n"
   ]
  },
  {
   "cell_type": "code",
   "execution_count": 9,
   "id": "de1f8121",
   "metadata": {},
   "outputs": [
    {
     "name": "stdout",
     "output_type": "stream",
     "text": [
      "2\n"
     ]
    }
   ],
   "source": [
    "print(x)"
   ]
  },
  {
   "cell_type": "code",
   "execution_count": 10,
   "id": "e68c9fc4",
   "metadata": {},
   "outputs": [
    {
     "name": "stdout",
     "output_type": "stream",
     "text": [
      "pole kwadratu o boku 2 wynosi  4\n"
     ]
    }
   ],
   "source": [
    "print('pole kwadratu o boku', x, 'wynosi ', x*x)"
   ]
  },
  {
   "cell_type": "code",
   "execution_count": 11,
   "id": "90abbfce",
   "metadata": {},
   "outputs": [
    {
     "name": "stdout",
     "output_type": "stream",
     "text": [
      "4\n"
     ]
    }
   ],
   "source": [
    "print(x*x)"
   ]
  },
  {
   "cell_type": "code",
   "execution_count": null,
   "id": "1028965e",
   "metadata": {},
   "outputs": [],
   "source": []
  }
 ],
 "metadata": {
  "kernelspec": {
   "display_name": "Python 3 (ipykernel)",
   "language": "python",
   "name": "python3"
  },
  "language_info": {
   "codemirror_mode": {
    "name": "ipython",
    "version": 3
   },
   "file_extension": ".py",
   "mimetype": "text/x-python",
   "name": "python",
   "nbconvert_exporter": "python",
   "pygments_lexer": "ipython3",
   "version": "3.7.12"
  }
 },
 "nbformat": 4,
 "nbformat_minor": 5
}
